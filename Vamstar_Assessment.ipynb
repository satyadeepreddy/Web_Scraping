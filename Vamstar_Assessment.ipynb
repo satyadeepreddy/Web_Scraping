{
  "nbformat": 4,
  "nbformat_minor": 0,
  "metadata": {
    "colab": {
      "name": "Vamstar_Assessment.ipynb",
      "provenance": [],
      "collapsed_sections": []
    },
    "kernelspec": {
      "name": "python3",
      "display_name": "Python 3"
    }
  },
  "cells": [
    {
      "cell_type": "code",
      "metadata": {
        "id": "Vq34hOtymgfE"
      },
      "source": [
        "from urllib.request import urlopen \r\n",
        "from bs4 import BeautifulSoup as soup\r\n",
        "my_url= 'https://prefeitura.pbh.gov.br/saude/licitacao/pregao-eletronico-151-2020'\r\n",
        "\r\n",

        "client = urlopen(my_url)\r\n",
        "page_html= client.read()\r\n",
        "client.close()\r\n",
        "\r\n",

        "page_soup=soup(page_html,'html.parser')\r\n"
      ],
      "execution_count": 50,
      "outputs": []
    },
    {
      "cell_type": "code",
      "metadata": {
        "colab": {
          "base_uri": "https://localhost:8080/"
        },
        "id": "vIj-bwHzrCCM",
        "outputId": "ae4b9038-3564-408c-8823-b6eedc858290"
      },
      "source": [

        "page_soup.findAll(\"div\",{\"class\":\"views-field views-field-nothing\"})\r\n"
      ],
      "execution_count": 51,
      "outputs": [
        {
          "output_type": "execute_result",
          "data": {
            "text/plain": [
              "[<div class=\"views-field views-field-nothing\"><span class=\"field-content\"><span class=\"icone_item_mega_menu_eg\"> <img alt=\"\" height=\"116\" src=\"/sites/default/files/imagens/estrutura-de-governo/icones/IconePrefeitoVice.png\" typeof=\"Image\" width=\"88\"/></span><span class=\"item_mega_menu_eg\"><a href=\"/prefeito\" hreflang=\"pt-br\">Prefeito</a></span></span></div>,\n",
              " <div class=\"views-field views-field-nothing\"><span class=\"field-content\"><span class=\"icone_item_mega_menu_eg\"> <img alt=\"\" height=\"116\" src=\"/sites/default/files/imagens/estrutura-de-governo/icones/IconePrefeitoVice.png\" typeof=\"Image\" width=\"88\"/></span><span class=\"item_mega_menu_eg\"><a href=\"/vice-prefeito\" hreflang=\"pt-br\">Vice-Prefeito</a></span></span></div>,\n",
              " <div class=\"views-field views-field-nothing\"><span class=\"field-content\"><span class=\"icone_item_mega_menu_eg\"> <img alt=\"\" height=\"582\" src=\"/sites/default/files/imagens/estrutura-de-governo/icones/Secretarias.png\" typeof=\"Image\" width=\"581\"/></span><span class=\"item_mega_menu_eg\"><a href=\"/smasac\" hreflang=\"pt-br\">Assistência Social, Segurança Alimentar e Cidadania</a></span></span></div>,\n",
              " <div class=\"views-field views-field-nothing\"><span class=\"field-content\"><span class=\"icone_item_mega_menu_eg\"> <img alt=\"\" height=\"582\" src=\"/sites/default/files/imagens/estrutura-de-governo/icones/Secretarias.png\" typeof=\"Image\" width=\"581\"/></span><span class=\"item_mega_menu_eg\"><a href=\"/comunicacao\" hreflang=\"pt-br\">Assuntos Institucionais e Comunicação Social</a></span></span></div>,\n",
              " <div class=\"views-field views-field-nothing\"><span class=\"field-content\"><span class=\"icone_item_mega_menu_eg\"> <img alt=\"\" height=\"582\" src=\"/sites/default/files/imagens/estrutura-de-governo/icones/Secretarias.png\" typeof=\"Image\" width=\"581\"/></span><span class=\"item_mega_menu_eg\"><a href=\"/controladoria\" hreflang=\"pt-br\">Controladoria-Geral do Município</a></span></span></div>,\n",
              " <div class=\"views-field views-field-nothing\"><span class=\"field-content\"><span class=\"icone_item_mega_menu_eg\"> <img alt=\"\" height=\"582\" src=\"/sites/default/files/imagens/estrutura-de-governo/icones/Secretarias_0.png\" typeof=\"Image\" width=\"581\"/></span><span class=\"item_mega_menu_eg\"><a href=\"/cultura\" hreflang=\"pt-br\">Cultura</a></span></span></div>,\n",
              " <div class=\"views-field views-field-nothing\"><span class=\"field-content\"><span class=\"icone_item_mega_menu_eg\"> <img alt=\"\" height=\"582\" src=\"/sites/default/files/imagens/estrutura-de-governo/icones/Secretarias.png\" typeof=\"Image\" width=\"581\"/></span><span class=\"item_mega_menu_eg\"><a href=\"/desenvolvimento\" hreflang=\"pt-br\">Desenvolvimento Econômico</a></span></span></div>,\n",
              " <div class=\"views-field views-field-nothing\"><span class=\"field-content\"><span class=\"icone_item_mega_menu_eg\"> <img alt=\"\" height=\"582\" src=\"/sites/default/files/imagens/estrutura-de-governo/icones/Secretarias.png\" typeof=\"Image\" width=\"581\"/></span><span class=\"item_mega_menu_eg\"><a href=\"/educacao\" hreflang=\"pt-br\">Educação</a></span></span></div>,\n",
              " <div class=\"views-field views-field-nothing\"><span class=\"field-content\"><span class=\"icone_item_mega_menu_eg\"> <img alt=\"\" height=\"582\" src=\"/sites/default/files/imagens/estrutura-de-governo/icones/Secretarias.png\" typeof=\"Image\" width=\"581\"/></span><span class=\"item_mega_menu_eg\"><a href=\"/esportes-e-lazer\" hreflang=\"pt-br\">Esportes e Lazer</a></span></span></div>,\n",
              " <div class=\"views-field views-field-nothing\"><span class=\"field-content\"><span class=\"icone_item_mega_menu_eg\"> <img alt=\"\" height=\"582\" src=\"/sites/default/files/imagens/estrutura-de-governo/icones/Secretarias.png\" typeof=\"Image\" width=\"581\"/></span><span class=\"item_mega_menu_eg\"><a href=\"/fazenda\" hreflang=\"pt-br\">Fazenda</a></span></span></div>,\n",
              " <div class=\"views-field views-field-nothing\"><span class=\"field-content\"><span class=\"icone_item_mega_menu_eg\"> <img alt=\"\" height=\"582\" src=\"/sites/default/files/imagens/estrutura-de-governo/icones/Secretarias.png\" typeof=\"Image\" width=\"581\"/></span><span class=\"item_mega_menu_eg\"><a href=\"/governo\" hreflang=\"pt-br\">Governo</a></span></span></div>,\n",
              " <div class=\"views-field views-field-nothing\"><span class=\"field-content\"><span class=\"icone_item_mega_menu_eg\"> <img alt=\"\" height=\"582\" src=\"/sites/default/files/imagens/estrutura-de-governo/icones/Secretarias.png\" typeof=\"Image\" width=\"581\"/></span><span class=\"item_mega_menu_eg\"><a href=\"/meio-ambiente\" hreflang=\"pt-br\">Meio Ambiente</a></span></span></div>,\n",
              " <div class=\"views-field views-field-nothing\"><span class=\"field-content\"><span class=\"icone_item_mega_menu_eg\"> <img alt=\"\" height=\"582\" src=\"/sites/default/files/imagens/estrutura-de-governo/icones/Secretarias.png\" typeof=\"Image\" width=\"581\"/></span><span class=\"item_mega_menu_eg\"><a href=\"/obras-e-infraestrutura\" hreflang=\"pt-br\">Obras e Infraestrutura</a></span></span></div>,\n",
              " <div class=\"views-field views-field-nothing\"><span class=\"field-content\"><span class=\"icone_item_mega_menu_eg\"> <img alt=\"\" height=\"582\" src=\"/sites/default/files/imagens/estrutura-de-governo/icones/Secretarias.png\" typeof=\"Image\" width=\"581\"/></span><span class=\"item_mega_menu_eg\"><a href=\"/planejamento\" hreflang=\"pt-br\">Planejamento</a></span></span></div>,\n",
              " <div class=\"views-field views-field-nothing\"><span class=\"field-content\"><span class=\"icone_item_mega_menu_eg\"> <img alt=\"\" height=\"582\" src=\"/sites/default/files/imagens/estrutura-de-governo/icones/Secretarias.png\" typeof=\"Image\" width=\"581\"/></span><span class=\"item_mega_menu_eg\"><a href=\"/politica-urbana\" hreflang=\"pt-br\">Política Urbana</a></span></span></div>,\n",
              " <div class=\"views-field views-field-nothing\"><span class=\"field-content\"><span class=\"icone_item_mega_menu_eg\"> <img alt=\"\" height=\"582\" src=\"/sites/default/files/imagens/estrutura-de-governo/icones/Secretarias.png\" typeof=\"Image\" width=\"581\"/></span><span class=\"item_mega_menu_eg\"><a href=\"/procuradoria\" hreflang=\"pt-br\">Procuradoria-Geral do Município</a></span></span></div>,\n",
              " <div class=\"views-field views-field-nothing\"><span class=\"field-content\"><span class=\"icone_item_mega_menu_eg\"> <img alt=\"\" height=\"582\" src=\"/sites/default/files/imagens/estrutura-de-governo/icones/Secretarias.png\" typeof=\"Image\" width=\"581\"/></span><span class=\"item_mega_menu_eg\"><a href=\"/saude\" hreflang=\"pt-br\">Saúde</a></span></span></div>,\n",
              " <div class=\"views-field views-field-nothing\"><span class=\"field-content\"><span class=\"icone_item_mega_menu_eg\"> <img alt=\"\" height=\"582\" src=\"/sites/default/files/imagens/estrutura-de-governo/icones/Secretarias%20%281%29.png\" typeof=\"Image\" width=\"581\"/></span><span class=\"item_mega_menu_eg\"><a href=\"/seguranca\" hreflang=\"pt-br\">Segurança e Prevenção</a></span></span></div>,\n",
              " <div class=\"views-field views-field-nothing\"><span class=\"field-content\"><span class=\"icone_item_mega_menu_eg\"> <img alt=\"\" height=\"18\" src=\"/sites/default/files/estrutura-de-governo/fundacao-de-parques-e-zoobotanica/Fundacao-1_Cultura.png\" typeof=\"Image\" width=\"18\"/></span><span class=\"item_mega_menu_eg\"><a href=\"/fundacao-de-parques-e-zoobotanica\" hreflang=\"pt-br\">Fundação de Parques Municipais e Zoobotânica</a></span></span></div>,\n",
              " <div class=\"views-field views-field-nothing\"><span class=\"field-content\"><span class=\"icone_item_mega_menu_eg\"> <img alt=\"\" height=\"581\" src=\"/sites/default/files/imagens/estrutura-de-governo/icones/Fundacao-1_Cultura.png\" typeof=\"Image\" width=\"581\"/></span><span class=\"item_mega_menu_eg\"><a href=\"/fundacao-municipal-de-cultura\" hreflang=\"pt-br\">Fundação Municipal de Cultura</a></span></span></div>,\n",
              " <div class=\"views-field views-field-nothing\"><span class=\"field-content\"><span class=\"icone_item_mega_menu_eg\"> <img alt=\"\" height=\"581\" src=\"/sites/default/files/imagens/estrutura-de-governo/icones/Autarquias_Empresas.png\" typeof=\"Image\" width=\"581\"/></span><span class=\"item_mega_menu_eg\"><a href=\"/belotur\" hreflang=\"pt-br\">Belotur</a></span></span></div>,\n",
              " <div class=\"views-field views-field-nothing\"><span class=\"field-content\"><span class=\"icone_item_mega_menu_eg\"> <img alt=\"\" height=\"581\" src=\"/sites/default/files/imagens/estrutura-de-governo/icones/Autarquias_Empresas.png\" typeof=\"Image\" width=\"581\"/></span><span class=\"item_mega_menu_eg\"><a href=\"/bhtrans\" hreflang=\"pt-br\">BHTrans</a></span></span></div>,\n",
              " <div class=\"views-field views-field-nothing\"><span class=\"field-content\"><span class=\"icone_item_mega_menu_eg\"> <img alt=\"\" height=\"581\" src=\"/sites/default/files/imagens/estrutura-de-governo/icones/Autarquias_Empresas.png\" typeof=\"Image\" width=\"581\"/></span><span class=\"item_mega_menu_eg\"><a href=\"/hospital-metropolitano-odilon-behrens\" hreflang=\"pt-br\">Hospital Metropolitano Odilon Behrens</a></span></span></div>,\n",
              " <div class=\"views-field views-field-nothing\"><span class=\"field-content\"><span class=\"icone_item_mega_menu_eg\"> <img alt=\"\" height=\"581\" src=\"/sites/default/files/imagens/estrutura-de-governo/icones/Autarquias_Empresas.png\" typeof=\"Image\" width=\"581\"/></span><span class=\"item_mega_menu_eg\"><a href=\"/pbh-ativos\" hreflang=\"pt-br\">PBH Ativos</a></span></span></div>,\n",
              " <div class=\"views-field views-field-nothing\"><span class=\"field-content\"><span class=\"icone_item_mega_menu_eg\"> <img alt=\"\" height=\"581\" src=\"/sites/default/files/imagens/estrutura-de-governo/icones/Autarquias_Empresas.png\" typeof=\"Image\" width=\"581\"/></span><span class=\"item_mega_menu_eg\"><a href=\"/prodabel\" hreflang=\"pt-br\">Prodabel</a></span></span></div>,\n",
              " <div class=\"views-field views-field-nothing\"><span class=\"field-content\"><span class=\"icone_item_mega_menu_eg\"> <img alt=\"\" height=\"581\" src=\"/sites/default/files/imagens/estrutura-de-governo/icones/Autarquias_Empresas.png\" typeof=\"Image\" width=\"581\"/></span><span class=\"item_mega_menu_eg\"><a href=\"/slu\" hreflang=\"pt-br\">SLU</a></span></span></div>,\n",
              " <div class=\"views-field views-field-nothing\"><span class=\"field-content\"><span class=\"icone_item_mega_menu_eg\"> <img alt=\"\" height=\"581\" src=\"/sites/default/files/imagens/estrutura-de-governo/icones/Autarquias_Empresas.png\" typeof=\"Image\" width=\"581\"/></span><span class=\"item_mega_menu_eg\"><a href=\"/sudecap\" hreflang=\"pt-br\">SUDECAP</a></span></span></div>,\n",
              " <div class=\"views-field views-field-nothing\"><span class=\"field-content\"><span class=\"icone_item_mega_menu_eg\"> <img alt=\"\" height=\"581\" src=\"/sites/default/files/imagens/estrutura-de-governo/icones/Autarquias_Empresas.png\" typeof=\"Image\" width=\"581\"/></span><span class=\"item_mega_menu_eg\"><a href=\"/urbel\" hreflang=\"pt-br\">Urbel</a></span></span></div>,\n",
              " <div class=\"views-field views-field-nothing\"><span class=\"field-content\"><span class=\"icone_item_mega_menu_eg\"> <img alt=\"\" height=\"361\" src=\"/sites/default/files/imagens/estrutura-de-governo/icones/MapaRegional_Barreiro.png\" typeof=\"Image\" width=\"253\"/></span><span class=\"item_mega_menu_eg\"><a href=\"/barreiro\" hreflang=\"pt-br\">Barreiro</a></span></span></div>,\n",
              " <div class=\"views-field views-field-nothing\"><span class=\"field-content\"><span class=\"icone_item_mega_menu_eg\"> <img alt=\"\" height=\"362\" src=\"/sites/default/files/imagens/estrutura-de-governo/icones/MapaRegional_Centro-Sul.png\" typeof=\"Image\" width=\"252\"/></span><span class=\"item_mega_menu_eg\"><a href=\"/centro-sul\" hreflang=\"pt-br\">Centro-Sul</a></span></span></div>,\n",
              " <div class=\"views-field views-field-nothing\"><span class=\"field-content\"><span class=\"icone_item_mega_menu_eg\"> <img alt=\"\" height=\"362\" src=\"/sites/default/files/imagens/estrutura-de-governo/icones/MapaRegional_Leste.png\" typeof=\"Image\" width=\"252\"/></span><span class=\"item_mega_menu_eg\"><a href=\"/leste\" hreflang=\"pt-br\">Leste</a></span></span></div>,\n",
              " <div class=\"views-field views-field-nothing\"><span class=\"field-content\"><span class=\"icone_item_mega_menu_eg\"> <img alt=\"\" height=\"361\" src=\"/sites/default/files/imagens/estrutura-de-governo/icones/MapaRegional_Nordeste.png\" typeof=\"Image\" width=\"252\"/></span><span class=\"item_mega_menu_eg\"><a href=\"/nordeste\" hreflang=\"pt-br\">Nordeste</a></span></span></div>,\n",
              " <div class=\"views-field views-field-nothing\"><span class=\"field-content\"><span class=\"icone_item_mega_menu_eg\"> <img alt=\"\" height=\"362\" src=\"/sites/default/files/imagens/estrutura-de-governo/icones/MapaRegional_Noroeste.png\" typeof=\"Image\" width=\"252\"/></span><span class=\"item_mega_menu_eg\"><a href=\"/noroeste\" hreflang=\"pt-br\">Noroeste</a></span></span></div>,\n",
              " <div class=\"views-field views-field-nothing\"><span class=\"field-content\"><span class=\"icone_item_mega_menu_eg\"> <img alt=\"\" height=\"362\" src=\"/sites/default/files/imagens/estrutura-de-governo/icones/MapaRegional-Norte.png\" typeof=\"Image\" width=\"252\"/></span><span class=\"item_mega_menu_eg\"><a href=\"/norte\" hreflang=\"pt-br\">Norte</a></span></span></div>,\n",
              " <div class=\"views-field views-field-nothing\"><span class=\"field-content\"><span class=\"icone_item_mega_menu_eg\"> <img alt=\"\" height=\"361\" src=\"/sites/default/files/imagens/estrutura-de-governo/icones/MapaRegional_Oeste.png\" typeof=\"Image\" width=\"252\"/></span><span class=\"item_mega_menu_eg\"><a href=\"/oeste\" hreflang=\"pt-br\">Oeste</a></span></span></div>,\n",
              " <div class=\"views-field views-field-nothing\"><span class=\"field-content\"><span class=\"icone_item_mega_menu_eg\"> <img alt=\"\" height=\"362\" src=\"/sites/default/files/imagens/estrutura-de-governo/icones/MapaRegional_Pampulha.png\" typeof=\"Image\" width=\"252\"/></span><span class=\"item_mega_menu_eg\"><a href=\"/pampulha\" hreflang=\"pt-br\">Pampulha</a></span></span></div>,\n",
              " <div class=\"views-field views-field-nothing\"><span class=\"field-content\"><span class=\"icone_item_mega_menu_eg\"> <img alt=\"\" height=\"362\" src=\"/sites/default/files/imagens/estrutura-de-governo/icones/MapaRegional_Venda%20Nova.png\" typeof=\"Image\" width=\"252\"/></span><span class=\"item_mega_menu_eg\"><a href=\"/venda-nova\" hreflang=\"pt-br\">Venda Nova</a></span></span></div>,\n",
              " <div class=\"views-field views-field-nothing\"><span class=\"field-content\"><span class=\"item_mega_menu\"><a href=\"/contato\" target=\"_blank\">Atendimento ao Cidadão</a></span></span></div>,\n",
              " <div class=\"views-field views-field-nothing\"><span class=\"field-content\"><span class=\"item_mega_menu\"><a href=\"http://www.pbh.gov.br/bhissdigital/portal/index.php\" target=\"_blank\">BHISS Digital</a></span></span></div>,\n",
              " <div class=\"views-field views-field-nothing\"><span class=\"field-content\"><span class=\"item_mega_menu\"><a href=\"/portaldasparcerias/chamamentos-publicos\" target=\"_blank\">Chamamentos públicos</a></span></span></div>,\n",
              " <div class=\"views-field views-field-nothing\"><span class=\"field-content\"><span class=\"item_mega_menu\"><a href=\"http://consultaprocessoopus.pbh.gov.br/consproc/\" target=\"_blank\">Consulta de Processos</a></span></span></div>,\n",
              " <div class=\"views-field views-field-nothing\"><span class=\"field-content\"><span class=\"item_mega_menu\"><a href=\"https://prefeitura.pbh.gov.br/saude/coronavirus\" target=\"_blank\">Coronavírus</a></span></span></div>,\n",
              " <div class=\"views-field views-field-nothing\"><span class=\"field-content\"><span class=\"item_mega_menu\"><a href=\"https://prefeitura.pbh.gov.br/campanha-de-vacinacao-contra-covid-19\" target=\"_blank\">Coronavírus: Campanha de Vacinação</a></span></span></div>,\n",
              " <div class=\"views-field views-field-nothing\"><span class=\"field-content\"><span class=\"item_mega_menu\"><a href=\"https://cestabasica.pbh.gov.br/\" target=\"_blank\">Coronavírus: Cestas básicas e kits de higiene</a></span></span></div>,\n",
              " <div class=\"views-field views-field-nothing\"><span class=\"field-content\"><span class=\"item_mega_menu\"><a href=\"https://covidapp.com.br/SaudeDigital/InicioPaciente.aspx?code=ErKtXFvnP9\" target=\"_blank\">Coronavírus: Consulta online</a></span></span></div>,\n",
              " <div class=\"views-field views-field-nothing\"><span class=\"field-content\"><span class=\"item_mega_menu\"><a href=\"https://prefeitura.pbh.gov.br/transparencia/licitacoes-e-contratos/editais-e-contratos/contratos-coronavirus\" target=\"_blank\">Coronavírus: Contratações emergenciais</a></span></span></div>,\n",
              " <div class=\"views-field views-field-nothing\"><span class=\"field-content\"><span class=\"item_mega_menu\"><a href=\"https://prefeitura.pbh.gov.br/licitacoes?field_contratacoes_covid19_value=1\" target=\"_blank\">Coronavírus: Licitações Covid-19</a></span></span></div>,\n",
              " <div class=\"views-field views-field-nothing\"><span class=\"field-content\"><span class=\"item_mega_menu\"><a href=\"https://prefeitura.pbh.gov.br/reabertura-de-atividades\" target=\"_blank\">CORONAVÍRUS: PROTOCOLOS DE FUNCIONAMENTO </a></span></span></div>,\n",
              " <div class=\"views-field views-field-nothing\"><span class=\"field-content\"><span class=\"item_mega_menu\"><a href=\"/fundacao-municipal-de-cultura/museus/reabertura-gradativa\" target=\"_blank\">CORONAVÍRUS: REABERTURA GRADUAL DE MUSEUS </a></span></span></div>,\n",
              " <div class=\"views-field views-field-nothing\"><span class=\"field-content\"><span class=\"item_mega_menu\"><a href=\"https://prefeitura.pbh.gov.br/saude/informacoes/vigilancia/vigilancia-epidemiologica/doencas-transmissiveis/dengue\" target=\"_blank\">Dengue</a></span></span></div>,\n",
              " <div class=\"views-field views-field-nothing\"><span class=\"field-content\"><span class=\"item_mega_menu\"><a href=\"http://portal6.pbh.gov.br/dom/iniciaEdicao.do?method=DomDia\" target=\"_blank\">Diário Oficial do Município</a></span></span></div>,\n",
              " <div class=\"views-field views-field-nothing\"><span class=\"field-content\"><span class=\"item_mega_menu\"><a href=\"/empreendedor\" target=\"_blank\">Empreendedor</a></span></span></div>,\n",
              " <div class=\"views-field views-field-nothing\"><span class=\"field-content\"><span class=\"item_mega_menu\"><a href=\"http://portalpbh.pbh.gov.br/pbh/ecp/comunidade.do?app=intranetpbh\" target=\"_blank\">INTRANET</a></span></span></div>,\n",
              " <div class=\"views-field views-field-nothing\"><span class=\"field-content\"><span class=\"item_mega_menu\"><a href=\"https://prefeitura.pbh.gov.br/fazenda/iptu\" target=\"_blank\">IPTU 2021</a></span></span></div>,\n",
              " <div class=\"views-field views-field-nothing\"><span class=\"field-content\"><span class=\"item_mega_menu\"><a href=\"http://dividaativaonline.siatu.pbh.gov.br/DividaAtivaOnline/index.xhtml\" target=\"_blank\">IPTU - Exercícios Anteriores</a></span></span></div>,\n",
              " <div class=\"views-field views-field-nothing\"><span class=\"field-content\"><span class=\"item_mega_menu\"><a href=\"/lei-de-acesso-a-informacao\" target=\"_blank\">Lei de Acesso à Informação</a></span></span></div>,\n",
              " <div class=\"views-field views-field-nothing\"><span class=\"field-content\"><span class=\"item_mega_menu\"><a href=\"https://prefeitura.pbh.gov.br/cultura/lei-de-emergencia-cultural-aldir-blanc\" target=\"_blank\">Lei de Emergência Cultural - Lei Aldir Blanc</a></span></span></div>,\n",
              " <div class=\"views-field views-field-nothing\"><span class=\"field-content\"><span class=\"item_mega_menu\"><a href=\"/licitacoes\" target=\"_blank\">Licitações e Editais</a></span></span></div>,\n",
              " <div class=\"views-field views-field-nothing\"><span class=\"field-content\"><span class=\"item_mega_menu\"><a href=\"https://prefeitura.pbh.gov.br/oportunidades-de-trabalho\" target=\"_blank\">oportunidades de trabalho</a></span></span></div>,\n",
              " <div class=\"views-field views-field-nothing\"><span class=\"field-content\"><span class=\"item_mega_menu\"><a href=\"/ouvidoria/fale-com-a-ouvidoria\" target=\"_blank\">Ouvidoria do Município</a></span></span></div>,\n",
              " <div class=\"views-field views-field-nothing\"><span class=\"field-content\"><span class=\"item_mega_menu\"><a href=\"/portaldasparcerias\" target=\"_blank\">Portal das Parcerias</a></span></span></div>,\n",
              " <div class=\"views-field views-field-nothing\"><span class=\"field-content\"><span class=\"item_mega_menu\"><a href=\"https://servicos.pbh.gov.br\" target=\"_blank\">Portal de Serviços</a></span></span></div>,\n",
              " <div class=\"views-field views-field-nothing\"><span class=\"field-content\"><span class=\"item_mega_menu\"><a href=\"https://slpcweb.pbh.gov.br/\" target=\"_blank\">Resultado de Exames</a></span></span></div>,\n",
              " <div class=\"views-field views-field-nothing\"><span class=\"field-content\"><span class=\"item_mega_menu\"><a href=\"/planejamento/gestao-de-pessoas/sala-do-servidor\" target=\"_blank\">Sala do Servidor</a></span></span></div>,\n",
              " <div class=\"views-field views-field-nothing\"><span class=\"field-content\"><span class=\"item_mega_menu\"><a href=\"http://portalbelohorizonte.com.br/\" target=\"_blank\">Turista</a></span></span></div>,\n",
              " <div class=\"views-field views-field-nothing\"><span class=\"field-content\"><span class=\"item_mega_menu\"><a href=\"https://prefeitura.pbh.gov.br/saude/uso-de-mascara\" target=\"_blank\">Coronavírus: Uso de máscaras </a></span></span></div>,\n",
              " <div class=\"views-field views-field-nothing\"><span class=\"field-content\"><span class=\"item_mega_menu\"><a href=\"/fundacao-de-parques-e-zoobotanica/parques\" target=\"_blank\">CORONAVíRUS: REABERTURA GRADUAL DOS PARQUES</a></span></span></div>,\n",
              " <div class=\"views-field views-field-nothing\"><span class=\"field-content\"><span class=\"item_mega_menu\"><a href=\"/fundacao-de-parques-e-zoobotanica/zoobotanica\" target=\"_blank\">CORONAVíRUS: REABERTURA GRADUAL DO ZOOLÓGICO</a></span></span></div>,\n",
              " <div class=\"views-field views-field-nothing\"><span class=\"field-content\"><span class=\"col-sm-6 lbl-licitacao\"><span>DATA DA PUBLICAÇÃO: </span>02/02/2021</span><br/><br/><span class=\"lbl-licitacao\"><span>OBJETO:</span></span><br/><p>Registro de Preços pelo prazo de 12 meses, para aquisição de grampo galvanizado.</p><br/><span class=\"lbl-licitacao\"><span>INFORMAÇÕES COMPLEMENTARES:</span></span><br/><p>Número do processo: 04.000.913/20-30</p><p>identificador do banco do Brasil: 852045</p><br/><span class=\"col-sm-6 lbl-licitacao\"><span>MODALIDADE: </span>Pregão Eletrônico</span><br/><br/><span class=\"col-sm-6 lbl-licitacao\"><span>SITUAÇÃO: </span>Em Andamento</span><br/><br/><span class=\"col-sm-6 lbl-licitacao\"><span>DATA DA LICITAÇÃO: </span>18/02/2021</span><br/><br/><span class=\"lbl-licitacao\"><span>HISTÓRICO:</span></span><br/><br/></span></div>]"
            ]
          },
          "metadata": {
            "tags": []
          },
          "execution_count": 51
        }
      ]
    },
    {
      "cell_type": "code",
      "metadata": {
        "id": "ky_g2L1asjif"
      },
      "source": [
        "pz=page_soup.find_all('span', {'class': 'col-sm-6 lbl-licitacao'})"
      ],
      "execution_count": 52,
      "outputs": []
    },
    {
      "cell_type": "code",
      "metadata": {
        "colab": {
          "base_uri": "https://localhost:8080/",
          "height": 35
        },
        "id": "IZ14QRVJ1rpC",
        "outputId": "dc4ef952-2fa7-4662-9f72-14a59bd2aa3c"
      },
      "source": [
        "pz[0].get_text()\r\n"
      ],
      "execution_count": 53,
      "outputs": [
        {
          "output_type": "execute_result",
          "data": {
            "application/vnd.google.colaboratory.intrinsic+json": {
              "type": "string"
            },
            "text/plain": [
              "'DATA DA PUBLICAÇÃO: 02/02/2021'"
            ]
          },
          "metadata": {
            "tags": []
          },
          "execution_count": 53
        }
      ]
    },
    {
      "cell_type": "code",
      "metadata": {
        "colab": {
          "base_uri": "https://localhost:8080/",
          "height": 35
        },
        "id": "6AFpIb7b38XL",
        "outputId": "06dfd062-02af-4c60-ae5c-59d0ac2f7efe"
      },
      "source": [
        "pz[3].get_text()\r\n"
      ],
      "execution_count": 54,
      "outputs": [
        {
          "output_type": "execute_result",
          "data": {
            "application/vnd.google.colaboratory.intrinsic+json": {
              "type": "string"
            },
            "text/plain": [
              "'DATA DA LICITAÇÃO: 18/02/2021'"
            ]
          },
          "metadata": {
            "tags": []
          },
          "execution_count": 54
        }
      ]
    },
    {
      "cell_type": "code",
      "metadata": {
        "colab": {
          "base_uri": "https://localhost:8080/"
        },
        "id": "A_F0bfvv39bb",
        "outputId": "decc095e-b5ba-4e55-bc99-55cae57cce92"
      },
      "source": [
        "page_soup.find('p').extract() "
      ],
      "execution_count": 55,
      "outputs": [
        {
          "output_type": "execute_result",
          "data": {
            "text/plain": [
              "<p>Registro de Preços pelo prazo de 12 meses, para aquisição de grampo galvanizado.</p>"
            ]
          },
          "metadata": {
            "tags": []
          },
          "execution_count": 55
        }
      ]
    }
  ]
}
